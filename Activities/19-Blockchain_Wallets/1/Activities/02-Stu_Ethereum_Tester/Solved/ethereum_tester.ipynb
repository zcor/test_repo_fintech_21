{
 "cells": [
  {
   "cell_type": "markdown",
   "metadata": {},
   "source": [
    "# Ethereum Tester\n",
    "In this activity you will utilize the Web3.py library as well as the `ethereum-tester` library and its `EthereumTesterProvider` to interact with a mock Ethereum blockchain.\n",
    "\n",
    "## Instructions\n",
    "\n",
    "Complete the following steps:\n",
    "\n",
    "1. From the Web3.py library, import `Web3` and the `EthereumTesterProvider`.\n",
    "\n",
    "2. Set the `EthereumTesterProvider` equal to a variable called `provider`.\n",
    "\n",
    "3. Create an instance of `Web3` passing the `provider` as a parameter. Set this equal to a variable called `w3`.\n",
    "\n",
    "4. Use the web3.eth API's `get_block` function to access the \"latest\" block in your mock blockchain.\n",
    "\n",
    "5. Use the web3.eth API's `accounts` function to access a list of account addresses that can be used to create a transaction.\n",
    "\n",
    "6. Use the web3.eth API's `get_balance` function to determine the wei balance in one of the accounts.\n",
    "\n",
    "7. Use Web3.py's `fromWei` function to calculate the number of ether in the account specified in step 6.\n",
    "\n",
    "8. Create and assign the following 4 variables:\n",
    "\n",
    "    * `sender` - assign it a value of one of the addresses from step 5.\n",
    "\n",
    "    * `receiver` - assign it a different address from step 5.\n",
    "\n",
    "    * `gas` - assign it a minium of 21000 units.\n",
    "\n",
    "    * `value` - the value should be the number of ether you want to send, but you will need to use the `toWei` function to convert it to the required wei.\n",
    "\n",
    "9. Use the web3.eth API's `send_transaction` function to send a transaction to the mock Ethereum blockchain.\n",
    "\n",
    "10. Use the web3.eth API's `get_transaction` function to find the details of the transaction, also known as the transaction object, sent in step 9.\n",
    "\n",
    "  > Hint:  You will need to use the transaction hash returned from the transaction to complete this step.\n",
    "\n",
    "11. Use the web3.eth API's `get_block` function to access the \"latest\" block in your mock blockchain. Has the block information changed from what was returned in step 4?\n",
    "\n",
    "12. Use the web3.eth API's `replace_transaction` function to update the units of `gas` in the original transaction. **NOTE:** This step will result in an ERROR - why do you think this occurs?"
   ]
  },
  {
   "cell_type": "markdown",
   "metadata": {},
   "source": [
    "## Step 1: From the Web3.py library, import `Web3` and the `EthereumTesterProvider`."
   ]
  },
  {
   "cell_type": "code",
   "execution_count": 1,
   "metadata": {},
   "outputs": [],
   "source": [
    "# Import Web3 and EthereumTesterProvider \n",
    "from web3 import Web3, EthereumTesterProvider"
   ]
  },
  {
   "cell_type": "markdown",
   "metadata": {},
   "source": [
    "## Step 2: Set the `EthereumTesterProvider` equal to a variable called `provider`."
   ]
  },
  {
   "cell_type": "code",
   "execution_count": 2,
   "metadata": {},
   "outputs": [
    {
     "name": "stderr",
     "output_type": "stream",
     "text": [
      "C:\\Users\\lorie\\Anaconda3\\envs\\pyvizenv25\\lib\\site-packages\\eth_tester\\backends\\__init__.py:31: UserWarning: Ethereum Tester: No backend was explicitely set, and no *full* backends were available.  Falling back to the `MockBackend` which does not support all EVM functionality.  Please refer to the `eth-tester` documentation for information on what backends are available and how to set them.\n",
      "  \"Ethereum Tester: No backend was explicitely set, and no *full* \"\n"
     ]
    }
   ],
   "source": [
    "# Set the EthereumTesterProvider as the provider\n",
    "provider =  EthereumTesterProvider()"
   ]
  },
  {
   "cell_type": "markdown",
   "metadata": {},
   "source": [
    "## Step 3: Create an instance of `Web3` passing the `provider` as a parameter. Set this equal to a variable called `w3`."
   ]
  },
  {
   "cell_type": "code",
   "execution_count": 3,
   "metadata": {},
   "outputs": [],
   "source": [
    "# Pass the EthereumTesterProvider to the Web3 instance\n",
    "w3 = Web3(provider)"
   ]
  },
  {
   "cell_type": "markdown",
   "metadata": {},
   "source": [
    "## Step 4: Use the web3.eth API's `get_block` function to access the \"latest\" block in your mock blockchain."
   ]
  },
  {
   "cell_type": "code",
   "execution_count": 4,
   "metadata": {},
   "outputs": [
    {
     "data": {
      "text/plain": [
       "AttributeDict({'number': 0,\n",
       " 'parentHash': HexBytes('0x0000000000000000000000000000000000000000000000000000000000000000'),\n",
       " 'nonce': HexBytes('0x000000000000002a'),\n",
       " 'sha3Uncles': HexBytes('0x1dcc4de8dec75d7aab85b567b6ccd41ad312451b948a7413f0a142fd40d49347'),\n",
       " 'logs_bloom': 0,\n",
       " 'transactionsRoot': HexBytes('0x56e81f171bcc55a6ff8345e692c0f86e5b48e01b996cadc001622fb5e363b421'),\n",
       " 'receipts_root': '0x56e81f171bcc55a6ff8345e692c0f86e5b48e01b996cadc001622fb5e363b421',\n",
       " 'stateRoot': HexBytes('0x56e81f171bcc55a6ff8345e692c0f86e5b48e01b996cadc001622fb5e363b421'),\n",
       " 'miner': '0x0000000000000000000000000000000000000000',\n",
       " 'difficulty': 131072,\n",
       " 'totalDifficulty': 131072,\n",
       " 'size': 0,\n",
       " 'extraData': HexBytes('0x0000000000000000000000000000000000000000000000000000000000000000'),\n",
       " 'gasLimit': 3141592,\n",
       " 'gasUsed': 0,\n",
       " 'timestamp': 1623420776,\n",
       " 'transactions': [],\n",
       " 'uncles': [],\n",
       " 'hash': HexBytes('0x76d42a11d995450638132c3f3e25c60560bf75ff091b64d8620609a385fe8b6f')})"
      ]
     },
     "execution_count": 4,
     "metadata": {},
     "output_type": "execute_result"
    }
   ],
   "source": [
    "# Access the latest block in the chain\n",
    "w3.eth.get_block(\"latest\")"
   ]
  },
  {
   "cell_type": "markdown",
   "metadata": {},
   "source": [
    "## Step 5: Use the web3.eth API's `accounts` function to access a list of account addresses that can be used to create a transaction."
   ]
  },
  {
   "cell_type": "code",
   "execution_count": 5,
   "metadata": {},
   "outputs": [
    {
     "data": {
      "text/plain": [
       "['0xaBbACadABa000000000000000000000000000000',\n",
       " '0xaBbACaDaBA000000000000000000000000000001',\n",
       " '0xAbbAcaDaBA000000000000000000000000000002',\n",
       " '0xabBACadaBA000000000000000000000000000003',\n",
       " '0xabbAcADABa000000000000000000000000000004',\n",
       " '0xaBBACADABA000000000000000000000000000005',\n",
       " '0xaBbaCadaBA000000000000000000000000000006',\n",
       " '0xAbbAcAdaBA000000000000000000000000000007',\n",
       " '0xaBBAcadabA000000000000000000000000000008',\n",
       " '0xABbacaDabA000000000000000000000000000009']"
      ]
     },
     "execution_count": 5,
     "metadata": {},
     "output_type": "execute_result"
    }
   ],
   "source": [
    "# List the accounts available for use with the mock blockchain\n",
    "w3.eth.accounts"
   ]
  },
  {
   "cell_type": "markdown",
   "metadata": {},
   "source": [
    "## Step 6: Use the web3.eth API's `get_balance` function to determine the wei balance in one of the accounts."
   ]
  },
  {
   "cell_type": "code",
   "execution_count": 6,
   "metadata": {},
   "outputs": [
    {
     "data": {
      "text/plain": [
       "1000000000000000000000000"
      ]
     },
     "execution_count": 6,
     "metadata": {},
     "output_type": "execute_result"
    }
   ],
   "source": [
    "# Access the balance of one of the test accounts\n",
    "wei_balance = w3.eth.get_balance('0xabBACadaBA000000000000000000000000000003')\n",
    "\n",
    "# Display the wei balance\n",
    "wei_balance"
   ]
  },
  {
   "cell_type": "markdown",
   "metadata": {},
   "source": [
    "## Step 7: Use Web3.py's `fromWei` function calculate the number of ether in the account specified in step 6."
   ]
  },
  {
   "cell_type": "code",
   "execution_count": 7,
   "metadata": {},
   "outputs": [
    {
     "data": {
      "text/plain": [
       "Decimal('1000000')"
      ]
     },
     "execution_count": 7,
     "metadata": {},
     "output_type": "execute_result"
    }
   ],
   "source": [
    "# Calculate the ether balance from the wei balance\n",
    "eth_balance = w3.fromWei(wei_balance, \"ether\")\n",
    "\n",
    "# Display the ether balance\n",
    "eth_balance"
   ]
  },
  {
   "cell_type": "markdown",
   "metadata": {},
   "source": [
    "## Step 8: Create and assign the following 4 variables:\n",
    "\n",
    "  * `sender` - assign it a value of one of the addresses from step 5.\n",
    "\n",
    "  * `receiver` - assign it a different address from step 5.\n",
    "\n",
    "  * `gas` - assign it a minium of 21000 units.\n",
    "\n",
    "  * `value` - the value should be the number of ether you want to send, but you will need to use the `toWei` function to convert it to the required wei."
   ]
  },
  {
   "cell_type": "code",
   "execution_count": 8,
   "metadata": {},
   "outputs": [],
   "source": [
    "# Set the sender address\n",
    "sender = '0xabBACadaBA000000000000000000000000000003'\n",
    "\n",
    "# Set the receiver address\n",
    "receiver = '0xaBBACADABA000000000000000000000000000005'\n",
    "\n",
    "# Set units of gas\n",
    "gas = 25000\n",
    "\n",
    "# Convert balance from ether to wei\n",
    "value = w3.toWei(7, 'ether')"
   ]
  },
  {
   "cell_type": "markdown",
   "metadata": {},
   "source": [
    "## Step 9: Use the `ethereum-tester` library's `send_transaction` function send a transaction to the mock Ethereum blockchain."
   ]
  },
  {
   "cell_type": "code",
   "execution_count": 9,
   "metadata": {},
   "outputs": [
    {
     "data": {
      "text/plain": [
       "HexBytes('0x890014685c7b7d3411b102d474a0ebda749584521bcb61465da7a1c1c3218eec')"
      ]
     },
     "execution_count": 9,
     "metadata": {},
     "output_type": "execute_result"
    }
   ],
   "source": [
    "# Send the transaction to the ethereum-tester blockchain\n",
    "w3.eth.send_transaction({\n",
    "    'to': receiver, \n",
    "    'from': sender, \n",
    "    'gas': gas, \n",
    "    'value': value\n",
    "})"
   ]
  },
  {
   "cell_type": "markdown",
   "metadata": {},
   "source": [
    "## Step 10: Use the web3.eth API's `get_transaction` function to find the details of the transaction, also known as the transaction object, sent in step 9."
   ]
  },
  {
   "cell_type": "code",
   "execution_count": 10,
   "metadata": {},
   "outputs": [
    {
     "data": {
      "text/plain": [
       "AttributeDict({'nonce': 0,\n",
       " 'from': '0xabBACadaBA000000000000000000000000000003',\n",
       " 'gas': 25000,\n",
       " 'gasPrice': 1,\n",
       " 'to': '0xaBBACADABA000000000000000000000000000005',\n",
       " 'data': '0x',\n",
       " 'value': 7000000000000000000,\n",
       " 'v': 27,\n",
       " 'r': HexBytes('0x3039'),\n",
       " 's': HexBytes('0x010932'),\n",
       " 'hash': HexBytes('0x890014685c7b7d3411b102d474a0ebda749584521bcb61465da7a1c1c3218eec'),\n",
       " 'blockHash': HexBytes('0xfa70ffa97459cfbec18d5a942726340bc0a561afa959889d554de784d94f3997'),\n",
       " 'blockNumber': 1,\n",
       " 'transactionIndex': 0})"
      ]
     },
     "execution_count": 10,
     "metadata": {},
     "output_type": "execute_result"
    }
   ],
   "source": [
    "# View the transaction object of the transaction sent in the prior step\n",
    "w3.eth.get_transaction('0x890014685c7b7d3411b102d474a0ebda749584521bcb61465da7a1c1c3218eec')"
   ]
  },
  {
   "cell_type": "markdown",
   "metadata": {},
   "source": [
    "## Step 11: Use the web3.eth API's `get_block` function to access the \"latest\" block in your mock blockchain. Has the block information changed from what was returned in step 4?"
   ]
  },
  {
   "cell_type": "code",
   "execution_count": 11,
   "metadata": {},
   "outputs": [
    {
     "data": {
      "text/plain": [
       "AttributeDict({'number': 1,\n",
       " 'parentHash': HexBytes('0x76d42a11d995450638132c3f3e25c60560bf75ff091b64d8620609a385fe8b6f'),\n",
       " 'nonce': HexBytes('0x000000000000002a'),\n",
       " 'sha3Uncles': HexBytes('0x1dcc4de8dec75d7aab85b567b6ccd41ad312451b948a7413f0a142fd40d49347'),\n",
       " 'logs_bloom': 0,\n",
       " 'transactionsRoot': HexBytes('0x56e81f171bcc55a6ff8345e692c0f86e5b48e01b996cadc001622fb5e363b421'),\n",
       " 'receipts_root': '0x56e81f171bcc55a6ff8345e692c0f86e5b48e01b996cadc001622fb5e363b421',\n",
       " 'stateRoot': HexBytes('0x56e81f171bcc55a6ff8345e692c0f86e5b48e01b996cadc001622fb5e363b421'),\n",
       " 'miner': '0x0000000000000000000000000000000000000000',\n",
       " 'difficulty': 131072,\n",
       " 'totalDifficulty': 262144,\n",
       " 'size': 0,\n",
       " 'extraData': HexBytes('0x0000000000000000000000000000000000000000000000000000000000000000'),\n",
       " 'gasLimit': 3141592,\n",
       " 'gasUsed': 21000,\n",
       " 'timestamp': 1623420777,\n",
       " 'transactions': [HexBytes('0x890014685c7b7d3411b102d474a0ebda749584521bcb61465da7a1c1c3218eec')],\n",
       " 'uncles': [],\n",
       " 'hash': HexBytes('0xfa70ffa97459cfbec18d5a942726340bc0a561afa959889d554de784d94f3997')})"
      ]
     },
     "execution_count": 11,
     "metadata": {},
     "output_type": "execute_result"
    }
   ],
   "source": [
    "# Access the latest block in the chain\n",
    "w3.eth.get_block(\"latest\")"
   ]
  },
  {
   "cell_type": "markdown",
   "metadata": {},
   "source": [
    "## Step 12. Use the web3.eth API's `replace_transaction` function to update the units of `gas` in the original transaction. **NOTE:** This step will result in an `ERROR` - why do you think this occurs?"
   ]
  },
  {
   "cell_type": "code",
   "execution_count": 12,
   "metadata": {},
   "outputs": [
    {
     "ename": "ValueError",
     "evalue": "Supplied transaction with hash b'\\x89\\x00\\x14h\\\\{}4\\x11\\xb1\\x02\\xd4t\\xa0\\xeb\\xdat\\x95\\x84R\\x1b\\xcbaF]\\xa7\\xa1\\xc1\\xc3!\\x8e\\xec' has already been mined",
     "output_type": "error",
     "traceback": [
      "\u001b[1;31m---------------------------------------------------------------------------\u001b[0m",
      "\u001b[1;31mValueError\u001b[0m                                Traceback (most recent call last)",
      "\u001b[1;32m<ipython-input-12-237399c05ac9>\u001b[0m in \u001b[0;36m<module>\u001b[1;34m\u001b[0m\n\u001b[0;32m      8\u001b[0m \u001b[1;33m\u001b[0m\u001b[0m\n\u001b[0;32m      9\u001b[0m \u001b[1;31m# Replace the value and gas units of the original transaction\u001b[0m\u001b[1;33m\u001b[0m\u001b[1;33m\u001b[0m\u001b[1;33m\u001b[0m\u001b[0m\n\u001b[1;32m---> 10\u001b[1;33m \u001b[0mw3\u001b[0m\u001b[1;33m.\u001b[0m\u001b[0meth\u001b[0m\u001b[1;33m.\u001b[0m\u001b[0mreplace_transaction\u001b[0m\u001b[1;33m(\u001b[0m\u001b[1;34m'0x890014685c7b7d3411b102d474a0ebda749584521bcb61465da7a1c1c3218eec'\u001b[0m\u001b[1;33m,\u001b[0m \u001b[0mupdated_transaction\u001b[0m\u001b[1;33m)\u001b[0m\u001b[1;33m\u001b[0m\u001b[1;33m\u001b[0m\u001b[0m\n\u001b[0m",
      "\u001b[1;32m~\\Anaconda3\\envs\\pyvizenv25\\lib\\site-packages\\web3\\eth.py\u001b[0m in \u001b[0;36mreplace_transaction\u001b[1;34m(self, transaction_hash, new_transaction)\u001b[0m\n\u001b[0;32m    449\u001b[0m     \u001b[1;32mdef\u001b[0m \u001b[0mreplace_transaction\u001b[0m\u001b[1;33m(\u001b[0m\u001b[0mself\u001b[0m\u001b[1;33m,\u001b[0m \u001b[0mtransaction_hash\u001b[0m\u001b[1;33m:\u001b[0m \u001b[0m_Hash32\u001b[0m\u001b[1;33m,\u001b[0m \u001b[0mnew_transaction\u001b[0m\u001b[1;33m:\u001b[0m \u001b[0mTxParams\u001b[0m\u001b[1;33m)\u001b[0m \u001b[1;33m->\u001b[0m \u001b[0mHexBytes\u001b[0m\u001b[1;33m:\u001b[0m\u001b[1;33m\u001b[0m\u001b[1;33m\u001b[0m\u001b[0m\n\u001b[0;32m    450\u001b[0m         \u001b[0mcurrent_transaction\u001b[0m \u001b[1;33m=\u001b[0m \u001b[0mget_required_transaction\u001b[0m\u001b[1;33m(\u001b[0m\u001b[0mself\u001b[0m\u001b[1;33m.\u001b[0m\u001b[0mweb3\u001b[0m\u001b[1;33m,\u001b[0m \u001b[0mtransaction_hash\u001b[0m\u001b[1;33m)\u001b[0m\u001b[1;33m\u001b[0m\u001b[1;33m\u001b[0m\u001b[0m\n\u001b[1;32m--> 451\u001b[1;33m         \u001b[1;32mreturn\u001b[0m \u001b[0mreplace_transaction\u001b[0m\u001b[1;33m(\u001b[0m\u001b[0mself\u001b[0m\u001b[1;33m.\u001b[0m\u001b[0mweb3\u001b[0m\u001b[1;33m,\u001b[0m \u001b[0mcurrent_transaction\u001b[0m\u001b[1;33m,\u001b[0m \u001b[0mnew_transaction\u001b[0m\u001b[1;33m)\u001b[0m\u001b[1;33m\u001b[0m\u001b[1;33m\u001b[0m\u001b[0m\n\u001b[0m\u001b[0;32m    452\u001b[0m \u001b[1;33m\u001b[0m\u001b[0m\n\u001b[0;32m    453\u001b[0m     \u001b[1;31m# todo: Update Any to stricter kwarg checking with TxParams\u001b[0m\u001b[1;33m\u001b[0m\u001b[1;33m\u001b[0m\u001b[1;33m\u001b[0m\u001b[0m\n",
      "\u001b[1;32m~\\Anaconda3\\envs\\pyvizenv25\\lib\\site-packages\\web3\\_utils\\transactions.py\u001b[0m in \u001b[0;36mreplace_transaction\u001b[1;34m(web3, current_transaction, new_transaction)\u001b[0m\n\u001b[0;32m    213\u001b[0m ) -> HexBytes:\n\u001b[0;32m    214\u001b[0m     new_transaction = prepare_replacement_transaction(\n\u001b[1;32m--> 215\u001b[1;33m         \u001b[0mweb3\u001b[0m\u001b[1;33m,\u001b[0m \u001b[0mcurrent_transaction\u001b[0m\u001b[1;33m,\u001b[0m \u001b[0mnew_transaction\u001b[0m\u001b[1;33m\u001b[0m\u001b[1;33m\u001b[0m\u001b[0m\n\u001b[0m\u001b[0;32m    216\u001b[0m     )\n\u001b[0;32m    217\u001b[0m     \u001b[1;32mreturn\u001b[0m \u001b[0mweb3\u001b[0m\u001b[1;33m.\u001b[0m\u001b[0meth\u001b[0m\u001b[1;33m.\u001b[0m\u001b[0msend_transaction\u001b[0m\u001b[1;33m(\u001b[0m\u001b[0mnew_transaction\u001b[0m\u001b[1;33m)\u001b[0m\u001b[1;33m\u001b[0m\u001b[1;33m\u001b[0m\u001b[0m\n",
      "\u001b[1;32m~\\Anaconda3\\envs\\pyvizenv25\\lib\\site-packages\\web3\\_utils\\transactions.py\u001b[0m in \u001b[0;36mprepare_replacement_transaction\u001b[1;34m(web3, current_transaction, new_transaction, gas_multiplier)\u001b[0m\n\u001b[0;32m    188\u001b[0m     \u001b[1;32mif\u001b[0m \u001b[0mcurrent_transaction\u001b[0m\u001b[1;33m[\u001b[0m\u001b[1;34m'blockHash'\u001b[0m\u001b[1;33m]\u001b[0m \u001b[1;32mis\u001b[0m \u001b[1;32mnot\u001b[0m \u001b[1;32mNone\u001b[0m\u001b[1;33m:\u001b[0m\u001b[1;33m\u001b[0m\u001b[1;33m\u001b[0m\u001b[0m\n\u001b[0;32m    189\u001b[0m         raise ValueError('Supplied transaction with hash {} has already been mined'\n\u001b[1;32m--> 190\u001b[1;33m                          .format(current_transaction['hash']))\n\u001b[0m\u001b[0;32m    191\u001b[0m     \u001b[1;32mif\u001b[0m \u001b[1;34m'nonce'\u001b[0m \u001b[1;32min\u001b[0m \u001b[0mnew_transaction\u001b[0m \u001b[1;32mand\u001b[0m \u001b[0mnew_transaction\u001b[0m\u001b[1;33m[\u001b[0m\u001b[1;34m'nonce'\u001b[0m\u001b[1;33m]\u001b[0m \u001b[1;33m!=\u001b[0m \u001b[0mcurrent_transaction\u001b[0m\u001b[1;33m[\u001b[0m\u001b[1;34m'nonce'\u001b[0m\u001b[1;33m]\u001b[0m\u001b[1;33m:\u001b[0m\u001b[1;33m\u001b[0m\u001b[1;33m\u001b[0m\u001b[0m\n\u001b[0;32m    192\u001b[0m         \u001b[1;32mraise\u001b[0m \u001b[0mValueError\u001b[0m\u001b[1;33m(\u001b[0m\u001b[1;34m'Supplied nonce in new_transaction must match the pending transaction'\u001b[0m\u001b[1;33m)\u001b[0m\u001b[1;33m\u001b[0m\u001b[1;33m\u001b[0m\u001b[0m\n",
      "\u001b[1;31mValueError\u001b[0m: Supplied transaction with hash b'\\x89\\x00\\x14h\\\\{}4\\x11\\xb1\\x02\\xd4t\\xa0\\xeb\\xdat\\x95\\x84R\\x1b\\xcbaF]\\xa7\\xa1\\xc1\\xc3!\\x8e\\xec' has already been mined"
     ]
    }
   ],
   "source": [
    "# Update the gas units for the original transaction by hardcoding it into the transaction details\n",
    "updated_transaction = w3.eth.send_transaction({\n",
    "    'to': receiver, \n",
    "    'from': sender , \n",
    "    'gas': 35000, \n",
    "    'value': value\n",
    "})\n",
    "\n",
    "# Replace the value and gas units of the original transaction\n",
    "w3.eth.replace_transaction('0x890014685c7b7d3411b102d474a0ebda749584521bcb61465da7a1c1c3218eec', updated_transaction)"
   ]
  }
 ],
 "metadata": {
  "kernelspec": {
   "display_name": "Python 3.7.7 64-bit ('pyvizenv25': conda)",
   "language": "python",
   "name": "python37764bitpyvizenv25conda3d840d05d7c24f0fab110cddf501ecac"
  },
  "language_info": {
   "codemirror_mode": {
    "name": "ipython",
    "version": 3
   },
   "file_extension": ".py",
   "mimetype": "text/x-python",
   "name": "python",
   "nbconvert_exporter": "python",
   "pygments_lexer": "ipython3",
   "version": "3.7.7"
  }
 },
 "nbformat": 4,
 "nbformat_minor": 4
}
