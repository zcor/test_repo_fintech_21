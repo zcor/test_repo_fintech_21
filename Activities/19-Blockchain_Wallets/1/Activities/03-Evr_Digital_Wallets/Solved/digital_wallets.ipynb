{
 "cells": [
  {
   "cell_type": "markdown",
   "metadata": {},
   "source": [
    "# Digital Wallets\n"
   ]
  },
  {
   "cell_type": "markdown",
   "metadata": {},
   "source": [
    "## Create the Mnemonic Seed Phrase"
   ]
  },
  {
   "cell_type": "code",
   "execution_count": 1,
   "metadata": {},
   "outputs": [],
   "source": [
    "# Import the mnemonic package\n",
    "from mnemonic import Mnemonic"
   ]
  },
  {
   "cell_type": "code",
   "execution_count": 2,
   "metadata": {},
   "outputs": [
    {
     "data": {
      "text/plain": [
       "'divorce betray rigid aspect kiwi clog name churn rate into inner glove'"
      ]
     },
     "execution_count": 2,
     "metadata": {},
     "output_type": "execute_result"
    }
   ],
   "source": [
    "# Create an instance of the Mnemonic dictionary\n",
    "mnemo = Mnemonic(\"english\")\n",
    "\n",
    "# Create the mnemonic seed phrase of either 12 or 24 words\n",
    "msp = mnemo.generate(strength=128)\n",
    "\n",
    "# View the mnemonic seed phrase\n",
    "msp"
   ]
  },
  {
   "cell_type": "code",
   "execution_count": 3,
   "metadata": {},
   "outputs": [
    {
     "data": {
      "text/plain": [
       "str"
      ]
     },
     "execution_count": 3,
     "metadata": {},
     "output_type": "execute_result"
    }
   ],
   "source": [
    "# Load the .env file\n",
    "import os\n",
    "from dotenv import load_dotenv\n",
    "load_dotenv()\n",
    "\n",
    "# Access the MNEMONIC variable from the .env file\n",
    "mnemonic = os.getenv(\"MNEMONIC\")\n",
    "\n",
    "# Print the data type to confirm import\n",
    "type(mnemonic)"
   ]
  },
  {
   "cell_type": "markdown",
   "metadata": {},
   "source": [
    "## Create the Digital Wallet"
   ]
  },
  {
   "cell_type": "code",
   "execution_count": 4,
   "metadata": {},
   "outputs": [
    {
     "data": {
      "text/plain": [
       "<bip44.wallet.Wallet at 0x1671bccb448>"
      ]
     },
     "execution_count": 4,
     "metadata": {},
     "output_type": "execute_result"
    }
   ],
   "source": [
    "# Import the Wallet module\n",
    "from bip44 import Wallet\n",
    "\n",
    "# Create the HD wallet instance\n",
    "wallet = Wallet(mnemonic)\n",
    "\n",
    "# View the wallet \n",
    "wallet"
   ]
  },
  {
   "cell_type": "markdown",
   "metadata": {},
   "source": [
    "## Create the public/private key pair"
   ]
  },
  {
   "cell_type": "code",
   "execution_count": 5,
   "metadata": {},
   "outputs": [
    {
     "data": {
      "text/plain": [
       "b'\\xc7\\xee\\xda\\xc8(\\x15?\\x9a+i\\x0c:n\\xabC\\xebkO\\xec\\xfa\\xd12A\\xc4\\xca\\xba\\x94\\xfaf\\xc6M\\xca'"
      ]
     },
     "metadata": {},
     "output_type": "display_data"
    },
    {
     "data": {
      "text/plain": [
       "b'\\x02\\xb7B\\x80\\xfa\\x1c\\x1f\\xcd\\x06\\xcaN\\x9b\\t\\xe5\\x0b8\\x14\\xcd\\x1d\\x9b\\xa6\\xc5\\xa3\\xb5h\"\\xe4\\xac\\x998\\x87\\xd9\\xf8'"
      ]
     },
     "metadata": {},
     "output_type": "display_data"
    }
   ],
   "source": [
    "# Create the public and private keys associated with a new Ethereum account\n",
    "private, public = wallet.derive_account(\"eth\")\n",
    "\n",
    "# Display the private and public keys\n",
    "display(private)\n",
    "display(public)"
   ]
  },
  {
   "cell_type": "markdown",
   "metadata": {},
   "source": [
    "## Create the Ethereum Account"
   ]
  },
  {
   "cell_type": "code",
   "execution_count": 6,
   "metadata": {},
   "outputs": [
    {
     "data": {
      "text/plain": [
       "<eth_account.signers.local.LocalAccount at 0x1671c450d48>"
      ]
     },
     "execution_count": 6,
     "metadata": {},
     "output_type": "execute_result"
    }
   ],
   "source": [
    "# Import the Account module from web3\n",
    "from web3 import Account\n",
    "\n",
    "# Create an Ethereum account by passing the private key via the Account object\n",
    "account = Account.privateKeyToAccount(private)\n",
    "\n",
    "# Print the account object\n",
    "account\n"
   ]
  },
  {
   "cell_type": "code",
   "execution_count": 7,
   "metadata": {},
   "outputs": [
    {
     "data": {
      "text/plain": [
       "'0xFD178cFBAA847c526e43c9Dd4a2DEf3BB67ede5D'"
      ]
     },
     "execution_count": 7,
     "metadata": {},
     "output_type": "execute_result"
    }
   ],
   "source": [
    "# Print the account address associated with the Ethereum account\n",
    "account.address"
   ]
  },
  {
   "cell_type": "code",
   "execution_count": 8,
   "metadata": {},
   "outputs": [
    {
     "data": {
      "text/plain": [
       "HexBytes('0xc7eedac828153f9a2b690c3a6eab43eb6b4fecfad13241c4caba94fa66c64dca')"
      ]
     },
     "execution_count": 8,
     "metadata": {},
     "output_type": "execute_result"
    }
   ],
   "source": [
    "# Print the hash of the account's private key\n",
    "account.privateKey"
   ]
  },
  {
   "cell_type": "markdown",
   "metadata": {},
   "source": [
    "## Create an Ethereum Transaction"
   ]
  },
  {
   "cell_type": "code",
   "execution_count": 9,
   "metadata": {},
   "outputs": [],
   "source": [
    "# Imports\n",
    "from web3.auto import w3\n",
    "from eth_account.messages import encode_defunct\n",
    "\n",
    "# Create a message\n",
    "msg = \"Blockchain is fun!\"\n",
    "\n",
    "# Encode the message\n",
    "encoded_msg = encode_defunct(text=msg)"
   ]
  },
  {
   "cell_type": "code",
   "execution_count": 10,
   "metadata": {},
   "outputs": [
    {
     "data": {
      "text/plain": [
       "SignedMessage(messageHash=HexBytes('0x978eaacc77cc3daaa11fa0f37c20bddeaa7e5cd72fbb41ea7d4fc99e14d7243f'), r=37925125442092045315799270826728625114335676307231420928810745993493719462212, s=18688510072207890462744007818037677075305486901640763120879548573973408555113, v=27, signature=HexBytes('0x53d8dc3d8dd2d4692547d75d5b2ea5640553b766afcf3a25f25840ec304eb1442951526511f6e117fdc364263ef45c1f01052f5992fd0f706fff313d8866a0691b'))"
      ]
     },
     "execution_count": 10,
     "metadata": {},
     "output_type": "execute_result"
    }
   ],
   "source": [
    "# Sign the message with our Ethereum account private key\n",
    "signed_message = w3.eth.account.sign_message(encoded_msg, private_key=private)\n",
    "\n",
    "# Review the signed message\n",
    "signed_message\n"
   ]
  },
  {
   "cell_type": "code",
   "execution_count": null,
   "metadata": {},
   "outputs": [],
   "source": []
  }
 ],
 "metadata": {
  "kernelspec": {
   "display_name": "Python 3.7.7 64-bit ('pyvizenv25': conda)",
   "language": "python",
   "name": "python37764bitpyvizenv25conda3d840d05d7c24f0fab110cddf501ecac"
  },
  "language_info": {
   "codemirror_mode": {
    "name": "ipython",
    "version": 3
   },
   "file_extension": ".py",
   "mimetype": "text/x-python",
   "name": "python",
   "nbconvert_exporter": "python",
   "pygments_lexer": "ipython3",
   "version": "3.7.7"
  }
 },
 "nbformat": 4,
 "nbformat_minor": 4
}
