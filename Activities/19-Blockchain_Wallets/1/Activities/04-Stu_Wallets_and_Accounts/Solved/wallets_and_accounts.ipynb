{
 "cells": [
  {
   "cell_type": "markdown",
   "metadata": {},
   "source": [
    "# Wallets and Accounts\n",
    "\n",
    "\n",
    "This activity will give you the opportunity to solidify your understanding of the relationship between the mnemonic seed phrase you just created and how it is used in relationship to the HD wallet, the creation of a private key, and ultimately the Ethereum account and address.\n",
    "\n",
    "## Instructions\n",
    "\n",
    "1. In the Unsolved folder for this activity, create a `.env` file. Inside the `.env` file create a variable called `MNEMONIC` and set it equal to the mnemonic seed phrase that you created in the prior activity.\n",
    "\n",
    "2. Call the `os.getenv` function and pass it the mnemonic variable from the `.env` file. Set that equal to the variable `mnemonic`. Confirm the data type of the `mnemonic` variable to confirm it was imported from the `.env` file properly.\n",
    "\n",
    "3. Create your digital `wallet` by calling the `Wallet` module and passing it your mnemonic seed phrase.\n",
    "\n",
    "4. Create your public/private key pair by calling the `derive_account` function on your digital wallet and passing it the argument \"eth\" to confirm you are creating the keys for an Ethereum account. Display the byte strings for both your public and private keys.\n",
    "\n",
    "5. Create your Ethereum account by calling the `privateKeyToAccount` function on the `Account` module and passing it your private key. View the account object.\n",
    "\n",
    "6. Print the hash codes associated with the account's address and private keys.\n",
    "\n",
    "7. Create and encode a message to be included in a signed Ethereum transaction.\n",
    "\n",
    "8. Using the Web3 eth API's [`account.sign_message` function](https://web3py.readthedocs.io/en/stable/web3.eth.account.html#sign-a-message), create a signed message by passing in the encoded message and your private key.\n",
    "\n",
    "9. To verify the message was created and signed, call the [`account.recover_message` function](https://web3py.readthedocs.io/en/stable/web3.eth.account.html#verify-a-message) and pass it the encoded message and the message signature."
   ]
  },
  {
   "cell_type": "markdown",
   "metadata": {},
   "source": [
    "## Step 1: In the Unsolved folder for this activity, create a `.env` file. Inside the `.env` file create a variable called `MNEMONIC` and set it equal to the mnemonic seed phrase that you created in the prior activity."
   ]
  },
  {
   "cell_type": "markdown",
   "metadata": {},
   "source": [
    "## Step 2: Call the `os.getenv` function and pass it the mnemonic variable from the `.env` file. Set that equal to the variable `mnemonic`. Confirm the data type of the `mnemonic` variable to confirm it was imported from the `.env` file properly."
   ]
  },
  {
   "cell_type": "code",
   "execution_count": 1,
   "metadata": {},
   "outputs": [
    {
     "data": {
      "text/plain": [
       "str"
      ]
     },
     "execution_count": 1,
     "metadata": {},
     "output_type": "execute_result"
    }
   ],
   "source": [
    "# Load the .env file\n",
    "import os\n",
    "from dotenv import load_dotenv\n",
    "load_dotenv()\n",
    "\n",
    "# Access the MNEMONIC variable from the .env file\n",
    "mnemonic = os.getenv(\"MNEMONIC\")\n",
    "\n",
    "# Print the data type to confirm import\n",
    "type(mnemonic)"
   ]
  },
  {
   "cell_type": "markdown",
   "metadata": {},
   "source": [
    "## Step 3: Create your digital `wallet` by calling the `Wallet` module and passing it your mnemonic seed phrase."
   ]
  },
  {
   "cell_type": "code",
   "execution_count": 2,
   "metadata": {},
   "outputs": [
    {
     "data": {
      "text/plain": [
       "<bip44.wallet.Wallet at 0x2859b892a08>"
      ]
     },
     "execution_count": 2,
     "metadata": {},
     "output_type": "execute_result"
    }
   ],
   "source": [
    "# Import the Wallet module\n",
    "from bip44 import Wallet\n",
    "\n",
    "# Create the HD wallet instance\n",
    "wallet = Wallet(mnemonic)\n",
    "\n",
    "# View the wallet \n",
    "wallet"
   ]
  },
  {
   "cell_type": "markdown",
   "metadata": {},
   "source": [
    "## Step 4: Create your public/private key pair by calling the `derive_account` function on your digital wallet and passing it the argument \"eth\" to confirm you are creating the keys for an Ethereum account. Display the byte strings for both your public and private keys."
   ]
  },
  {
   "cell_type": "code",
   "execution_count": 3,
   "metadata": {},
   "outputs": [
    {
     "data": {
      "text/plain": [
       "b'\\xc7\\xee\\xda\\xc8(\\x15?\\x9a+i\\x0c:n\\xabC\\xebkO\\xec\\xfa\\xd12A\\xc4\\xca\\xba\\x94\\xfaf\\xc6M\\xca'"
      ]
     },
     "metadata": {},
     "output_type": "display_data"
    },
    {
     "data": {
      "text/plain": [
       "b'\\x02\\xb7B\\x80\\xfa\\x1c\\x1f\\xcd\\x06\\xcaN\\x9b\\t\\xe5\\x0b8\\x14\\xcd\\x1d\\x9b\\xa6\\xc5\\xa3\\xb5h\"\\xe4\\xac\\x998\\x87\\xd9\\xf8'"
      ]
     },
     "metadata": {},
     "output_type": "display_data"
    }
   ],
   "source": [
    "# Create the public and private keys for a new Ethereum account\n",
    "private, public = wallet.derive_account(\"eth\")\n",
    "\n",
    "# Display the private and public keys\n",
    "display(private)\n",
    "display(public)"
   ]
  },
  {
   "cell_type": "markdown",
   "metadata": {},
   "source": [
    "## Step 5: Create your Ethereum account by calling the `privateKeyToAccount` function on the `Account` module and passing it your private key. View the account object."
   ]
  },
  {
   "cell_type": "code",
   "execution_count": 4,
   "metadata": {},
   "outputs": [
    {
     "data": {
      "text/plain": [
       "<eth_account.signers.local.LocalAccount at 0x2859bc1e3c8>"
      ]
     },
     "execution_count": 4,
     "metadata": {},
     "output_type": "execute_result"
    }
   ],
   "source": [
    "# Import the Account module from web3\n",
    "from web3 import Account\n",
    "\n",
    "# Create an Ethereum account by passing the private key \n",
    "account = Account.privateKeyToAccount(private)\n",
    "\n",
    "# View the account object\n",
    "account"
   ]
  },
  {
   "cell_type": "markdown",
   "metadata": {},
   "source": [
    "## Step 6: Print the hash codes associated with the account's address and private keys."
   ]
  },
  {
   "cell_type": "code",
   "execution_count": 5,
   "metadata": {},
   "outputs": [
    {
     "data": {
      "text/plain": [
       "'0xFD178cFBAA847c526e43c9Dd4a2DEf3BB67ede5D'"
      ]
     },
     "execution_count": 5,
     "metadata": {},
     "output_type": "execute_result"
    }
   ],
   "source": [
    "# Print the hashed address for your Ethereum account\n",
    "account.address"
   ]
  },
  {
   "cell_type": "code",
   "execution_count": 6,
   "metadata": {},
   "outputs": [
    {
     "data": {
      "text/plain": [
       "HexBytes('0xc7eedac828153f9a2b690c3a6eab43eb6b4fecfad13241c4caba94fa66c64dca')"
      ]
     },
     "execution_count": 6,
     "metadata": {},
     "output_type": "execute_result"
    }
   ],
   "source": [
    "# Print the hashed private key for your Ethereum account\n",
    "account.privateKey"
   ]
  },
  {
   "cell_type": "markdown",
   "metadata": {},
   "source": [
    "## Step 7: Create and encode a message to be included in a signed Ethereum transaction."
   ]
  },
  {
   "cell_type": "code",
   "execution_count": 7,
   "metadata": {},
   "outputs": [
    {
     "data": {
      "text/plain": [
       "SignableMessage(version=b'E', header=b'thereum Signed Message:\\n78', body=b'Mnemonic seed phrases, HD wallets, private keys, and Ethereum accounts. Oh My!')"
      ]
     },
     "execution_count": 7,
     "metadata": {},
     "output_type": "execute_result"
    }
   ],
   "source": [
    "# Imports\n",
    "from eth_account.messages import encode_defunct\n",
    "\n",
    "# Create a message\n",
    "msg = \"Mnemonic seed phrases, HD wallets, private keys, and Ethereum accounts. Oh My!\"\n",
    "\n",
    "# Encode the message\n",
    "encoded_msg = encode_defunct(text=msg)\n",
    "\n",
    "# View the encoded message\n",
    "encoded_msg"
   ]
  },
  {
   "cell_type": "markdown",
   "metadata": {},
   "source": [
    "## Step 8: Using the Web3 eth API's [`account.sign_message` function](https://web3py.readthedocs.io/en/stable/web3.eth.account.html#sign-a-message), create a signed message by passing in the encoded message and your private key."
   ]
  },
  {
   "cell_type": "code",
   "execution_count": 8,
   "metadata": {},
   "outputs": [
    {
     "data": {
      "text/plain": [
       "SignedMessage(messageHash=HexBytes('0x3c75827c9e8ad34ed10cb1b6f73d3d6fdb343bf7d80325d16217c915b9f42fcc'), r=95985573568941524935962842201838641281921372475228040764299124433177789144390, s=15554015478427773590469774988953905009541516052833709571613387811044632294786, v=27, signature=HexBytes('0xd435e8ce977ed24edc95e157cc064be6ea5f48d97a02d47b29d1e0464fb11d46226342c2ce01e70b2d7df8f2af6fa68ad1a1b5eeb97f09ac901057f9519bf5821b'))"
      ]
     },
     "execution_count": 8,
     "metadata": {},
     "output_type": "execute_result"
    }
   ],
   "source": [
    "# Imports\n",
    "from web3.auto import w3\n",
    "\n",
    "# Sign the message with your Ethereum account private key\n",
    "signed_message = w3.eth.account.sign_message(encoded_msg, private_key=private)\n",
    "\n",
    "# Review the signed message\n",
    "signed_message"
   ]
  },
  {
   "cell_type": "markdown",
   "metadata": {},
   "source": [
    "## Step 9. To verify the message was created and signed, call the [`account.recover_message` function](https://web3py.readthedocs.io/en/stable/web3.eth.account.html#verify-a-message) and pass it the encoded message and the message signature."
   ]
  },
  {
   "cell_type": "code",
   "execution_count": 9,
   "metadata": {},
   "outputs": [
    {
     "data": {
      "text/plain": [
       "'0xFD178cFBAA847c526e43c9Dd4a2DEf3BB67ede5D'"
      ]
     },
     "execution_count": 9,
     "metadata": {},
     "output_type": "execute_result"
    }
   ],
   "source": [
    "# Verify the message using the encoded message and the message signature\n",
    "w3.eth.account.recover_message(encoded_msg, signature=signed_message.signature)"
   ]
  },
  {
   "cell_type": "code",
   "execution_count": null,
   "metadata": {},
   "outputs": [],
   "source": []
  }
 ],
 "metadata": {
  "kernelspec": {
   "display_name": "Python 3.7.7 64-bit ('pyvizenv25': conda)",
   "language": "python",
   "name": "python37764bitpyvizenv25conda3d840d05d7c24f0fab110cddf501ecac"
  },
  "language_info": {
   "codemirror_mode": {
    "name": "ipython",
    "version": 3
   },
   "file_extension": ".py",
   "mimetype": "text/x-python",
   "name": "python",
   "nbconvert_exporter": "python",
   "pygments_lexer": "ipython3",
   "version": "3.7.7"
  }
 },
 "nbformat": 4,
 "nbformat_minor": 4
}
